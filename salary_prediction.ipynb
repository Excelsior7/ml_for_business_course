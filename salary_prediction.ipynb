{
 "cells": [
  {
   "cell_type": "code",
   "execution_count": 89,
   "metadata": {},
   "outputs": [],
   "source": [
    "import pandas as pd\n",
    "import numpy as np\n",
    "import plotly.express as px\n",
    "\n",
    "pd.set_option('display.max_columns', None)"
   ]
  },
  {
   "cell_type": "code",
   "execution_count": 90,
   "metadata": {},
   "outputs": [],
   "source": [
    "raw_data = pd.read_csv(\"data/postings.csv\")"
   ]
  },
  {
   "cell_type": "code",
   "execution_count": 91,
   "metadata": {},
   "outputs": [
    {
     "data": {
      "text/plain": [
       "Index(['job_id', 'company_name', 'title', 'description', 'max_salary',\n",
       "       'pay_period', 'location', 'company_id', 'views', 'med_salary',\n",
       "       'min_salary', 'formatted_work_type', 'applies', 'original_listed_time',\n",
       "       'remote_allowed', 'job_posting_url', 'application_url',\n",
       "       'application_type', 'expiry', 'closed_time',\n",
       "       'formatted_experience_level', 'skills_desc', 'listed_time',\n",
       "       'posting_domain', 'sponsored', 'work_type', 'currency',\n",
       "       'compensation_type', 'normalized_salary', 'zip_code', 'fips'],\n",
       "      dtype='object')"
      ]
     },
     "execution_count": 91,
     "metadata": {},
     "output_type": "execute_result"
    }
   ],
   "source": [
    "raw_data.columns"
   ]
  },
  {
   "cell_type": "code",
   "execution_count": 92,
   "metadata": {},
   "outputs": [
    {
     "name": "stdout",
     "output_type": "stream",
     "text": [
      "<class 'pandas.core.frame.DataFrame'>\n",
      "RangeIndex: 123849 entries, 0 to 123848\n",
      "Data columns (total 31 columns):\n",
      " #   Column                      Non-Null Count   Dtype  \n",
      "---  ------                      --------------   -----  \n",
      " 0   job_id                      123849 non-null  int64  \n",
      " 1   company_name                122130 non-null  object \n",
      " 2   title                       123849 non-null  object \n",
      " 3   description                 123842 non-null  object \n",
      " 4   max_salary                  29793 non-null   float64\n",
      " 5   pay_period                  36073 non-null   object \n",
      " 6   location                    123849 non-null  object \n",
      " 7   company_id                  122132 non-null  float64\n",
      " 8   views                       122160 non-null  float64\n",
      " 9   med_salary                  6280 non-null    float64\n",
      " 10  min_salary                  29793 non-null   float64\n",
      " 11  formatted_work_type         123849 non-null  object \n",
      " 12  applies                     23320 non-null   float64\n",
      " 13  original_listed_time        123849 non-null  float64\n",
      " 14  remote_allowed              15246 non-null   float64\n",
      " 15  job_posting_url             123849 non-null  object \n",
      " 16  application_url             87184 non-null   object \n",
      " 17  application_type            123849 non-null  object \n",
      " 18  expiry                      123849 non-null  float64\n",
      " 19  closed_time                 1073 non-null    float64\n",
      " 20  formatted_experience_level  94440 non-null   object \n",
      " 21  skills_desc                 2439 non-null    object \n",
      " 22  listed_time                 123849 non-null  float64\n",
      " 23  posting_domain              83881 non-null   object \n",
      " 24  sponsored                   123849 non-null  int64  \n",
      " 25  work_type                   123849 non-null  object \n",
      " 26  currency                    36073 non-null   object \n",
      " 27  compensation_type           36073 non-null   object \n",
      " 28  normalized_salary           36073 non-null   float64\n",
      " 29  zip_code                    102977 non-null  float64\n",
      " 30  fips                        96434 non-null   float64\n",
      "dtypes: float64(14), int64(2), object(15)\n",
      "memory usage: 29.3+ MB\n"
     ]
    }
   ],
   "source": [
    "raw_data.info()"
   ]
  },
  {
   "cell_type": "code",
   "execution_count": 93,
   "metadata": {},
   "outputs": [
    {
     "data": {
      "text/plain": [
       "pay_period\n",
       "YEARLY      20628\n",
       "HOURLY      14741\n",
       "MONTHLY       518\n",
       "WEEKLY        177\n",
       "BIWEEKLY        9\n",
       "Name: count, dtype: int64"
      ]
     },
     "execution_count": 93,
     "metadata": {},
     "output_type": "execute_result"
    }
   ],
   "source": [
    "raw_data[\"pay_period\"].value_counts()"
   ]
  },
  {
   "cell_type": "code",
   "execution_count": 94,
   "metadata": {},
   "outputs": [],
   "source": [
    "# CREATE A NEW YEARLY SALARY COLUMN FROM EXISTING SALARY COLUMNS TO STANDARDIZE THIS METRIC ACROSS THE DATASET \n",
    "\n",
    "salary_columns: list[str] = [\"max_salary\",\"med_salary\",\"min_salary\"]\n",
    "salary_period_type_column: str = \"pay_period\"\n",
    "\n",
    "def convert_to_yearly_salary(df: pd.DataFrame) -> pd.DataFrame:\n",
    "    df = df.copy()\n",
    "\n",
    "    df.loc[df[salary_period_type_column]==\"HOURLY\", salary_columns] = df.loc[df[salary_period_type_column]==\"HOURLY\", salary_columns]*2080\n",
    "    df.loc[df[salary_period_type_column]==\"WEEKLY\", salary_columns] = df.loc[df[salary_period_type_column]==\"WEEKLY\", salary_columns]*52\n",
    "    df.loc[df[salary_period_type_column]==\"BIWEEKLY\", salary_columns] = df.loc[df[salary_period_type_column]==\"BIWEEKLY\", salary_columns]*26\n",
    "    df.loc[df[salary_period_type_column]==\"MONTHLY\", salary_columns] = df.loc[df[salary_period_type_column]==\"MONTHLY\", salary_columns]*12\n",
    "\n",
    "    df[\"standardized_salary\"] = df[\"med_salary\"]\n",
    "    \n",
    "    df[\"avg_min_max\"] = (df[\"max_salary\"]+df[\"min_salary\"])/2\n",
    "    df.loc[df[\"standardized_salary\"].isna()==True, \"standardized_salary\"] = df.loc[df[\"standardized_salary\"].isna()==True,\"avg_min_max\"]\n",
    "\n",
    "    return df"
   ]
  },
  {
   "cell_type": "code",
   "execution_count": 139,
   "metadata": {},
   "outputs": [],
   "source": [
    "jobs_data = convert_to_yearly_salary(raw_data)"
   ]
  },
  {
   "cell_type": "code",
   "execution_count": 140,
   "metadata": {},
   "outputs": [],
   "source": [
    "jobs_data = jobs_data[jobs_data[\"standardized_salary\"]>=0]"
   ]
  },
  {
   "cell_type": "code",
   "execution_count": 141,
   "metadata": {},
   "outputs": [],
   "source": [
    "COLUMNS_TO_KEEP = ['company_name'\n",
    "                   ,'title'\n",
    "                   ,'description'\n",
    "                   ,'location'\n",
    "                   ,'remote_allowed'\n",
    "                   ,'work_type'\n",
    "                   ,'currency'\n",
    "                   ,'standardized_salary']\n",
    "\n",
    "jobs_data = jobs_data[COLUMNS_TO_KEEP]"
   ]
  },
  {
   "cell_type": "code",
   "execution_count": 142,
   "metadata": {},
   "outputs": [],
   "source": [
    "# WE WILL FOCUS ON USD CURRENCY\n",
    "# value_counts: \n",
    "# USD    36058\n",
    "# EUR        6\n",
    "# CAD        3\n",
    "# BBD        2\n",
    "# AUD        2\n",
    "# GBP        2\n",
    "\n",
    "jobs_data = jobs_data[jobs_data[\"currency\"]==\"USD\"]"
   ]
  },
  {
   "cell_type": "code",
   "execution_count": 143,
   "metadata": {},
   "outputs": [],
   "source": [
    "# WE WILL FOCUS ON FULL_TIME, CONTRACT, PART_TIME WORK TYPES\n",
    "# value_counts: \n",
    "# FULL_TIME     29119\n",
    "# CONTRACT       3848\n",
    "# PART_TIME      2304\n",
    "# TEMPORARY       394\n",
    "# INTERNSHIP      247\n",
    "# OTHER           138\n",
    "# VOLUNTEER         8\n",
    "\n",
    "jobs_data = jobs_data[jobs_data[\"work_type\"].isin([\"FULL_TIME\",\"CONTRACT\",\"PART_TIME\"])]"
   ]
  },
  {
   "cell_type": "code",
   "execution_count": 144,
   "metadata": {},
   "outputs": [
    {
     "data": {
      "text/plain": [
       "95"
      ]
     },
     "execution_count": 144,
     "metadata": {},
     "output_type": "execute_result"
    }
   ],
   "source": [
    "jobs_data[\"location\"].str.split(',',expand=True)[1].nunique()"
   ]
  },
  {
   "cell_type": "code",
   "execution_count": 145,
   "metadata": {},
   "outputs": [],
   "source": [
    "jobs_data[\"state\"]=jobs_data[\"location\"].str.split(',',expand=True)[1].str.strip()"
   ]
  },
  {
   "cell_type": "code",
   "execution_count": 150,
   "metadata": {},
   "outputs": [],
   "source": [
    "location_renaming = {\n",
    "    'United States': 'US'\n",
    "    ,'Ohio Metropolitan Area': 'OH'\n",
    "    ,'Texas Metropolitan Area': 'TX'\n",
    "    ,'California': 'CA'\n",
    "    ,'South Carolina Metropolitan Area': 'SC'\n",
    "    ,'Oregon Metropolitan Area': 'OR'\n",
    "    ,'Alabama Area': 'AL'\n",
    "    ,'Kansas Metropolitan Area': 'KS'\n",
    "    ,'Massachusetts Metropolitan Area': 'MI'\n",
    "    ,'Colorado': 'CO'\n",
    "    ,'Nebraska Metropolitan Area': 'NE'\n",
    "    ,'New York': 'NY'\n",
    "    ,'New York Metropolitan Area': 'NY'\n",
    "    ,'MI Area': 'MI'\n",
    "    ,'Illinois': 'IL'\n",
    "    ,'Texas': 'TX'\n",
    "    ,'Louisiana Metropolitan Area': 'LA'\n",
    "    ,'South Carolina Area': 'SC'\n",
    "    ,'Hawaii': 'HI'\n",
    "    ,'Ohio': 'OH'\n",
    "    ,'Virginia Metropolitan Area': 'VA'\n",
    "    ,'Florida': 'FL'\n",
    "    ,'Delaware': 'DE'\n",
    "    ,'Arizona': 'AZ'\n",
    "    ,'North Carolina': 'NC'\n",
    "    ,'New Jersey': 'NJ'\n",
    "    ,'North Carolina Metropolitan Area': 'NC'\n",
    "    ,'Illinois Metropolitan Area': 'IL'\n",
    "    ,'Alaska': 'AK'\n",
    "    ,'Nebraska': 'NE'\n",
    "    ,'Georgia': 'GA'\n",
    "    ,'Washington': 'WA'\n",
    "    ,'Massachusetts': 'MA'\n",
    "    ,'AR Area': 'AR'\n",
    "    ,'Wisconsin Metropolitan Area': 'WI'\n",
    "    ,'Maine Metropolitan Area': 'ME'\n",
    "    ,'Oregon': 'OR'\n",
    "    ,'Indiana Metropolitan Area': 'IN'\n",
    "    ,'Oklahoma': 'OK'\n",
    "    ,'Michigan': 'MI'\n",
    "    ,'Utah': 'UT'\n",
    "    ,'Georgia Area': 'GA'\n",
    "    ,'New Mexico': 'NM'\n",
    "    ,'Virginia': 'VA'\n",
    "}"
   ]
  },
  {
   "cell_type": "code",
   "execution_count": 151,
   "metadata": {},
   "outputs": [],
   "source": [
    "jobs_data[\"state\"] = jobs_data[\"state\"].replace(location_renaming)"
   ]
  },
  {
   "cell_type": "code",
   "execution_count": 153,
   "metadata": {},
   "outputs": [
    {
     "data": {
      "text/plain": [
       "52"
      ]
     },
     "execution_count": 153,
     "metadata": {},
     "output_type": "execute_result"
    }
   ],
   "source": [
    "jobs_data[\"state\"].nunique()"
   ]
  }
 ],
 "metadata": {
  "kernelspec": {
   "display_name": ".venv",
   "language": "python",
   "name": "python3"
  },
  "language_info": {
   "codemirror_mode": {
    "name": "ipython",
    "version": 3
   },
   "file_extension": ".py",
   "mimetype": "text/x-python",
   "name": "python",
   "nbconvert_exporter": "python",
   "pygments_lexer": "ipython3",
   "version": "3.12.7"
  }
 },
 "nbformat": 4,
 "nbformat_minor": 2
}
